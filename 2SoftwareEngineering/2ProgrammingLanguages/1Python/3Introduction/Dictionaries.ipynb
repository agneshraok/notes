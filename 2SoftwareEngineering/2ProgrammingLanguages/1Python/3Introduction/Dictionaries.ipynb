{
 "cells": [
  {
   "cell_type": "markdown",
   "metadata": {},
   "source": [
    "# Python Dictionaries\n",
    "---\n",
    "1. Dicts are mutable\n",
    "2. Dictionaries are used to store data values in key:value pairs\n",
    "3. Dictionaries cannot have duplicate keys"
   ]
  },
  {
   "cell_type": "markdown",
   "metadata": {},
   "source": [
    "‎"
   ]
  },
  {
   "cell_type": "markdown",
   "metadata": {},
   "source": [
    "\n",
    "\n",
    "\n",
    "\n",
    "## Creating Dictionaries \n",
    "--------------------------------------------------------------------------------------------------------------\n",
    "\n",
    "Can be created either by using {} or dict() function"
   ]
  },
  {
   "cell_type": "code",
   "execution_count": 53,
   "metadata": {},
   "outputs": [
    {
     "data": {
      "text/plain": [
       "{'Dave': '001', 'Ava': '002', 'Joe': '003'}"
      ]
     },
     "execution_count": 53,
     "metadata": {},
     "output_type": "execute_result"
    }
   ],
   "source": [
    "my_dict={'Dave' : '001' , 'Ava': '002' , 'Joe': '003'}\n",
    "my_dict"
   ]
  },
  {
   "cell_type": "code",
   "execution_count": 54,
   "metadata": {},
   "outputs": [
    {
     "data": {
      "text/plain": [
       "{'Dave': 10}"
      ]
     },
     "execution_count": 54,
     "metadata": {},
     "output_type": "execute_result"
    }
   ],
   "source": [
    "my_new_dict = dict()\n",
    "my_new_dict['Dave'] =  10\n",
    "my_new_dict"
   ]
  },
  {
   "cell_type": "code",
   "execution_count": 55,
   "metadata": {},
   "outputs": [
    {
     "data": {
      "text/plain": [
       "{'Dave': 100, 'Sarah': 200}"
      ]
     },
     "execution_count": 55,
     "metadata": {},
     "output_type": "execute_result"
    }
   ],
   "source": [
    "another_dict = dict(Dave = 100, Sarah = 200)\n",
    "another_dict\n",
    "# Note that we should not use keys as strings and use = instead of : while using dict()"
   ]
  },
  {
   "cell_type": "markdown",
   "metadata": {},
   "source": [
    "### Creating Nested Dictionaries"
   ]
  },
  {
   "cell_type": "code",
   "execution_count": 56,
   "metadata": {},
   "outputs": [
    {
     "data": {
      "text/plain": [
       "{'Employee': {'Dave': {'ID': '001',\n",
       "   'Salary': 2000,\n",
       "   'Designation': 'Python Developer'},\n",
       "  'Ava': {'ID': '002', 'Salary': 2300, 'Designation': 'Java Developer'},\n",
       "  'Joe': {'ID': '003', 'Salary': 1843, 'Designation': 'Hadoop Developer'}}}"
      ]
     },
     "execution_count": 56,
     "metadata": {},
     "output_type": "execute_result"
    }
   ],
   "source": [
    "emp_details = {'Employee': {'Dave': {'ID': '001','Salary': 2000, 'Designation':'Python Developer'},\n",
    "                            'Ava': {'ID':'002','Salary': 2300,'Designation': 'Java Developer' },\n",
    "                            'Joe': {'ID': '003','Salary': 1843, 'Designation': 'Hadoop Developer'}}}\n",
    "                                    \n",
    "emp_details"
   ]
  },
  {
   "cell_type": "markdown",
   "metadata": {},
   "source": [
    "## Inserting Items\n",
    "---"
   ]
  },
  {
   "cell_type": "code",
   "execution_count": 57,
   "metadata": {},
   "outputs": [
    {
     "data": {
      "text/plain": [
       "{'Dave': '001', 'Ava': '002', 'Joe': '003', 'Jack': '007'}"
      ]
     },
     "execution_count": 57,
     "metadata": {},
     "output_type": "execute_result"
    }
   ],
   "source": [
    "my_dict={'Dave' : '001' , 'Ava': '002' , 'Joe': '003'}\n",
    "my_dict['Jack'] = '007'\n",
    "my_dict"
   ]
  },
  {
   "cell_type": "markdown",
   "metadata": {},
   "source": [
    "## Accessing Items, keys and values\n",
    "---"
   ]
  },
  {
   "cell_type": "markdown",
   "metadata": {},
   "source": [
    "#### 1. Accesing items in the dictionary"
   ]
  },
  {
   "cell_type": "code",
   "execution_count": 58,
   "metadata": {},
   "outputs": [
    {
     "name": "stdout",
     "output_type": "stream",
     "text": [
      "<class 'dict_items'>\n"
     ]
    },
    {
     "data": {
      "text/plain": [
       "dict_items([('Dave', '001'), ('Ava', '002'), ('Joe', '003')])"
      ]
     },
     "execution_count": 58,
     "metadata": {},
     "output_type": "execute_result"
    }
   ],
   "source": [
    "my_dict={'Dave' : '001' , 'Ava': '002' , 'Joe': '003'}\n",
    "print(type(my_dict.items()))\n",
    "my_dict.items()"
   ]
  },
  {
   "cell_type": "markdown",
   "metadata": {},
   "source": [
    "! We can see that the methods (items(), keys() and values()) doesn't return a list but specific classes (dict_items, dict_keys and dict_values). \n",
    "\n",
    "! To be able to access the items using an index, type cast them into list!"
   ]
  },
  {
   "cell_type": "code",
   "execution_count": 2,
   "metadata": {},
   "outputs": [
    {
     "data": {
      "text/plain": [
       "('Dave', '001')"
      ]
     },
     "execution_count": 2,
     "metadata": {},
     "output_type": "execute_result"
    }
   ],
   "source": [
    "my_dict={'Dave' : '001' , 'Ava': '002' , 'Joe': '003'}\n",
    "list(my_dict.items())[0]"
   ]
  },
  {
   "cell_type": "markdown",
   "metadata": {},
   "source": [
    "#### 2. Accesing keys in the dictionary"
   ]
  },
  {
   "cell_type": "code",
   "execution_count": 59,
   "metadata": {},
   "outputs": [
    {
     "name": "stdout",
     "output_type": "stream",
     "text": [
      "<class 'dict_keys'>\n"
     ]
    },
    {
     "data": {
      "text/plain": [
       "dict_keys(['Dave', 'Ava', 'Joe'])"
      ]
     },
     "execution_count": 59,
     "metadata": {},
     "output_type": "execute_result"
    }
   ],
   "source": [
    "my_dict={'Dave' : '001' , 'Ava': '002' , 'Joe': '003'}\n",
    "print(type(my_dict.keys()))\n",
    "my_dict.keys() \n",
    "\n",
    "#Note that keys() method doesn't return list but infact dict_keys type. so can't use indexing to access items in it i.e my_dict.keys()[0]"
   ]
  },
  {
   "cell_type": "markdown",
   "metadata": {},
   "source": [
    "#### 3. Accesing values "
   ]
  },
  {
   "cell_type": "code",
   "execution_count": 1,
   "metadata": {},
   "outputs": [
    {
     "name": "stdout",
     "output_type": "stream",
     "text": [
      "<class 'dict_values'>\n"
     ]
    },
    {
     "data": {
      "text/plain": [
       "dict_values(['001', '002', '003'])"
      ]
     },
     "execution_count": 1,
     "metadata": {},
     "output_type": "execute_result"
    }
   ],
   "source": [
    "# Accesing all the values\n",
    "\n",
    "my_dict={'Dave' : '001' , 'Ava': '002' , 'Joe': '003'}\n",
    "print(type(my_dict.values()))\n",
    "my_dict.values() "
   ]
  },
  {
   "cell_type": "code",
   "execution_count": 61,
   "metadata": {},
   "outputs": [
    {
     "data": {
      "text/plain": [
       "'001'"
      ]
     },
     "execution_count": 61,
     "metadata": {},
     "output_type": "execute_result"
    }
   ],
   "source": [
    "# Accesing specific value using a key\n",
    "\n",
    "my_dict={'Dave' : '001' , 'Ava': '002' , 'Joe': '003'}\n",
    "someValue = my_dict['Dave']\n",
    "someValue"
   ]
  },
  {
   "cell_type": "code",
   "execution_count": 63,
   "metadata": {},
   "outputs": [
    {
     "data": {
      "text/plain": [
       "'001'"
      ]
     },
     "execution_count": 63,
     "metadata": {},
     "output_type": "execute_result"
    }
   ],
   "source": [
    "# Accesing specific value using get() method\n",
    "\n",
    "my_dict={'Dave' : '001' , 'Ava': '002' , 'Joe': '003'}\n",
    "my_dict.get('Dave')"
   ]
  },
  {
   "cell_type": "markdown",
   "metadata": {},
   "source": [
    "### some for loops"
   ]
  },
  {
   "cell_type": "code",
   "execution_count": 64,
   "metadata": {},
   "outputs": [
    {
     "name": "stdout",
     "output_type": "stream",
     "text": [
      "001\n",
      "002\n",
      "003\n"
     ]
    }
   ],
   "source": [
    "for i in my_dict:\n",
    "    print(my_dict[i])"
   ]
  },
  {
   "cell_type": "code",
   "execution_count": 65,
   "metadata": {},
   "outputs": [
    {
     "name": "stdout",
     "output_type": "stream",
     "text": [
      "All keys are as follows\n",
      "Dave\n",
      "Ava\n",
      "Joe\n",
      "All values are as follows\n",
      "001\n",
      "002\n",
      "003\n",
      "All keys and values are as follows\n",
      "Dave : 001\n",
      "Ava : 002\n",
      "Joe : 003\n"
     ]
    }
   ],
   "source": [
    "my_dict={'Dave' : '001' , 'Ava': '002' , 'Joe': '003'}\n",
    "print(\"All keys are as follows\")\n",
    "for x in my_dict:\n",
    "    print(x)       #prints the keys\n",
    "print(\"All values are as follows\")\n",
    "for x in my_dict.values():\n",
    "    print(x)       #prints values\n",
    "print(\"All keys and values are as follows\")\n",
    "for x,y in my_dict.items():\n",
    "    print(x, \":\" , y)"
   ]
  },
  {
   "cell_type": "markdown",
   "metadata": {},
   "source": [
    "## Deleting items from a dictionary \n",
    "---\n",
    "1. del()\n",
    "2. pop()\n",
    "3. popitem()\n",
    "4. clear()"
   ]
  },
  {
   "cell_type": "code",
   "execution_count": 66,
   "metadata": {},
   "outputs": [
    {
     "name": "stdout",
     "output_type": "stream",
     "text": [
      "{'Joe': '003'}\n"
     ]
    }
   ],
   "source": [
    "my_dict={'Dave': '004', 'Ava': '002', 'Joe': '003', 'Chris': '005'}\n",
    "del my_dict['Dave']  #removes key-value pair of 'Dave'\n",
    "my_dict.pop('Ava')   #removes the value of 'Ava'\n",
    "my_dict.popitem()    #removes the last inserted item\n",
    "print(my_dict)"
   ]
  },
  {
   "cell_type": "markdown",
   "metadata": {},
   "source": [
    "### Sorting Dicts by keys and values\n",
    "---\n",
    "\n"
   ]
  },
  {
   "cell_type": "code",
   "execution_count": 67,
   "metadata": {},
   "outputs": [
    {
     "data": {
      "text/plain": [
       "{'a': 1000, 't': 500, 'y': 25, 'z': 26}"
      ]
     },
     "execution_count": 67,
     "metadata": {},
     "output_type": "execute_result"
    }
   ],
   "source": [
    "#Sorting dicts by keys\n",
    "\n",
    "newdict = {'a':1000, 'z':26, 't':500, 'y':25}\n",
    "\n",
    "newdict = dict(sorted(newdict.items()))\n",
    "\n",
    "newdict"
   ]
  },
  {
   "cell_type": "code",
   "execution_count": 68,
   "metadata": {},
   "outputs": [
    {
     "data": {
      "text/plain": [
       "{'y': 25, 'z': 26, 't': 500, 'a': 1000}"
      ]
     },
     "execution_count": 68,
     "metadata": {},
     "output_type": "execute_result"
    }
   ],
   "source": [
    "#sorting dicts by values\n",
    "\n",
    "myDict = {'a':1000, 'z':26, 't':500, 'y':25}\n",
    "\n",
    "dict(sorted(myDict.items(), key = lambda items:items[1]))"
   ]
  },
  {
   "cell_type": "markdown",
   "metadata": {},
   "source": [
    "#### Difference between sorted() and sort()\n",
    "\n",
    "- sorted() is a function and returns a new object. hence a new variable is created to store this expression.\n",
    "\n",
    "- sort() is a method and it sorts in place! can't assign this expression to any variable."
   ]
  },
  {
   "cell_type": "markdown",
   "metadata": {},
   "source": [
    "## Default Dict\n",
    "------\n",
    "\n",
    "- Must be imported from the collections package.\n",
    "\n",
    "- A defaultdict works exactly like a normal dict, but it is initialized with a function (“default factory”) that takes no arguments and provides the default value for a nonexistent key. A defaultdict will never raise a KeyError. Any key that does not exist gets the value returned by the default factory."
   ]
  },
  {
   "cell_type": "markdown",
   "metadata": {},
   "source": [
    "Say you want to count the frequency of items in a list using a dict."
   ]
  },
  {
   "cell_type": "code",
   "execution_count": 69,
   "metadata": {},
   "outputs": [
    {
     "data": {
      "text/plain": [
       "{1: 2, 2: 1, 4: 1}"
      ]
     },
     "execution_count": 69,
     "metadata": {},
     "output_type": "execute_result"
    }
   ],
   "source": [
    "myList = [1,1,2,4]\n",
    "\n",
    "myDict = {}\n",
    "\n",
    "for i in myList:\n",
    "    if i not in myDict:\n",
    "        myDict[i] = 1\n",
    "    else:\n",
    "        myDict[i] += 1\n",
    "\n",
    "myDict"
   ]
  },
  {
   "cell_type": "markdown",
   "metadata": {},
   "source": [
    "Instead we can just do this using default dict (Look closer inside for loop)"
   ]
  },
  {
   "cell_type": "code",
   "execution_count": 70,
   "metadata": {},
   "outputs": [
    {
     "data": {
      "text/plain": [
       "defaultdict(int, {1: 2, 2: 1, 4: 1})"
      ]
     },
     "execution_count": 70,
     "metadata": {},
     "output_type": "execute_result"
    }
   ],
   "source": [
    "from collections import defaultdict\n",
    "# OR import collections \n",
    "\n",
    "myList = [1,1,2,4]  \n",
    "\n",
    "myDict = defaultdict(int)\n",
    "\n",
    "for i in myList:\n",
    "    myDict[i] += 1    #Here\n",
    "\n",
    "myDict\n",
    "\n",
    "\n"
   ]
  },
  {
   "cell_type": "markdown",
   "metadata": {},
   "source": [
    "We can pass a lambda function inside defaultdict() "
   ]
  },
  {
   "cell_type": "code",
   "execution_count": 71,
   "metadata": {},
   "outputs": [
    {
     "data": {
      "text/plain": [
       "defaultdict(<function __main__.<lambda>()>, {1: 4, 2: 3, 4: 3})"
      ]
     },
     "execution_count": 71,
     "metadata": {},
     "output_type": "execute_result"
    }
   ],
   "source": [
    "from collections import defaultdict\n",
    "# OR import collections \n",
    "\n",
    "myList = [1,1,2,4]  \n",
    "\n",
    "myDict = defaultdict(lambda:2)   #Now the default value will be 2 \n",
    "\n",
    "for i in myList:\n",
    "    myDict[i] += 1    #Here\n",
    "\n",
    "myDict\n",
    "\n",
    "#Observe the output, frequency values are incremented by 2 because the default was set as 2."
   ]
  },
  {
   "cell_type": "markdown",
   "metadata": {},
   "source": [
    "We can make a defaultdict(list) too!"
   ]
  },
  {
   "cell_type": "code",
   "execution_count": 72,
   "metadata": {},
   "outputs": [
    {
     "data": {
      "text/plain": [
       "defaultdict(list, {'yellow': [1, 3], 'blue': [2, 4], 'red': [1]})"
      ]
     },
     "execution_count": 72,
     "metadata": {},
     "output_type": "execute_result"
    }
   ],
   "source": [
    "from collections import defaultdict\n",
    "\n",
    "s = [('yellow', 1), ('blue', 2), ('yellow', 3), ('blue', 4), ('red', 1)]\n",
    "\n",
    "myDict = defaultdict(list)   #An empty array is initialised by default.\n",
    "\n",
    "for item1, item2 in s:\n",
    "    myDict[item1].append(item2)\n",
    "\n",
    "myDict\n"
   ]
  },
  {
   "cell_type": "markdown",
   "metadata": {},
   "source": [
    "## Dictionary Comphrension\n",
    "---"
   ]
  },
  {
   "cell_type": "code",
   "execution_count": 78,
   "metadata": {},
   "outputs": [
    {
     "data": {
      "text/plain": [
       "{0: 0, 1: 1, 2: 4, 3: 9, 4: 16, 5: 25, 6: 36}"
      ]
     },
     "execution_count": 78,
     "metadata": {},
     "output_type": "execute_result"
    }
   ],
   "source": [
    "myDict = {x : x*x for x in range(7) }\n",
    "myDict"
   ]
  },
  {
   "cell_type": "code",
   "execution_count": 79,
   "metadata": {},
   "outputs": [
    {
     "data": {
      "text/plain": [
       "{0: 0, 2: 4, 4: 16, 6: 36}"
      ]
     },
     "execution_count": 79,
     "metadata": {},
     "output_type": "execute_result"
    }
   ],
   "source": [
    "#Using only if inside comphrension\n",
    "\n",
    "myDict = {x : x*x for x in range(7) if x%2 ==0 }\n",
    "myDict"
   ]
  },
  {
   "cell_type": "code",
   "execution_count": 77,
   "metadata": {},
   "outputs": [
    {
     "data": {
      "text/plain": [
       "{0: 0, 1: 1, 2: 4, 3: 3, 4: 16, 5: 5, 6: 36}"
      ]
     },
     "execution_count": 77,
     "metadata": {},
     "output_type": "execute_result"
    }
   ],
   "source": [
    "# Using if else inside comphrensions\n",
    "\n",
    "myDict = {x : x*x  if x%2 == 0 else x for x in range(7) }\n",
    "myDict"
   ]
  },
  {
   "attachments": {},
   "cell_type": "markdown",
   "metadata": {},
   "source": [
    "<br/>"
   ]
  },
  {
   "attachments": {},
   "cell_type": "markdown",
   "metadata": {},
   "source": [
    "## Methods\n",
    "---\n",
    "\n",
    "<br/>\n",
    "\n",
    "### setdefault()\n",
    "---"
   ]
  },
  {
   "cell_type": "code",
   "execution_count": 1,
   "metadata": {},
   "outputs": [
    {
     "name": "stdout",
     "output_type": "stream",
     "text": [
      "1000\n"
     ]
    }
   ],
   "source": [
    "# If key is present in the dictionary setdefault will get the value of that key\n",
    "\n",
    "myDict = {'a':1000, 'z':26, 't':500, 'y':25}\n",
    "\n",
    "isPresent = myDict.setdefault('a')\n",
    "print(isPresent)"
   ]
  },
  {
   "cell_type": "code",
   "execution_count": 3,
   "metadata": {},
   "outputs": [
    {
     "name": "stdout",
     "output_type": "stream",
     "text": [
      "None\n"
     ]
    }
   ],
   "source": [
    "# If key is not present in the dictionary setdefault will return the default value if given, else will return None.\n",
    "\n",
    "myDict = {'a':1000, 'z':26, 't':500, 'y':25}\n",
    "\n",
    "isPresent = myDict.setdefault('o')\n",
    "print(isPresent)"
   ]
  },
  {
   "cell_type": "code",
   "execution_count": 4,
   "metadata": {},
   "outputs": [
    {
     "name": "stdout",
     "output_type": "stream",
     "text": [
      "This is the default value\n"
     ]
    }
   ],
   "source": [
    "# default value is provided in this code\n",
    "\n",
    "myDict = {'a':1000, 'z':26, 't':500, 'y':25}\n",
    "\n",
    "thisValue = myDict.setdefault('o', \"This is the default value\")\n",
    "\n",
    "print(thisValue)"
   ]
  },
  {
   "cell_type": "code",
   "execution_count": 6,
   "metadata": {},
   "outputs": [
    {
     "name": "stdout",
     "output_type": "stream",
     "text": [
      "{'a': 1000, 'z': 26, 't': 500, 'y': 25, 'o': None}\n"
     ]
    }
   ],
   "source": [
    "#It will update the dictionary as well!\n",
    "\n",
    "myDict = {'a':1000, 'z':26, 't':500, 'y':25}\n",
    "\n",
    "thisValue = myDict.setdefault('o', \"This is the default value\")\n",
    "\n",
    "print(myDict)"
   ]
  }
 ],
 "metadata": {
  "kernelspec": {
   "display_name": "Python 3.9.12 ('base')",
   "language": "python",
   "name": "python3"
  },
  "language_info": {
   "codemirror_mode": {
    "name": "ipython",
    "version": 3
   },
   "file_extension": ".py",
   "mimetype": "text/x-python",
   "name": "python",
   "nbconvert_exporter": "python",
   "pygments_lexer": "ipython3",
   "version": "3.9.12"
  },
  "orig_nbformat": 4,
  "vscode": {
   "interpreter": {
    "hash": "db0d478f9cd0fc1a5e1c0e536b8e5208ff30d2621524e0f9b7171d8f62182cd6"
   }
  }
 },
 "nbformat": 4,
 "nbformat_minor": 2
}
