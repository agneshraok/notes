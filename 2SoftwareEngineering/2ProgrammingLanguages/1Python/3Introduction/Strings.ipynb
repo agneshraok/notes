{
 "cells": [
  {
   "cell_type": "markdown",
   "metadata": {},
   "source": [
    "# Python Strings\n",
    "---\n",
    "\n"
   ]
  },
  {
   "cell_type": "markdown",
   "metadata": {},
   "source": [
    "### printing a float with specified number of digits after decimal point"
   ]
  },
  {
   "cell_type": "code",
   "execution_count": 1,
   "metadata": {},
   "outputs": [
    {
     "name": "stdout",
     "output_type": "stream",
     "text": [
      "pi upto 3 decimal digits is 3.142\n"
     ]
    }
   ],
   "source": [
    "pi = 3.141592653\n",
    "\n",
    "print(f'pi upto 3 decimal digits is {pi:.4}')"
   ]
  },
  {
   "cell_type": "markdown",
   "metadata": {},
   "source": [
    "you can pass in both a field width and a precision. The format is {value:width.precision}. \n",
    "Let’s format pi (3.1415926) to two decimal places - we’ll set the width to 1 because we don’t need padding, and the precision to 3, giving us the one number to the left of the decimal and the two numbers to the right:"
   ]
  },
  {
   "cell_type": "code",
   "execution_count": 2,
   "metadata": {},
   "outputs": [
    {
     "name": "stdout",
     "output_type": "stream",
     "text": [
      "Pi to two decimal places is 3.14\n",
      "Pi to two decimal places is: 3.14\n",
      "Pi to two decimal places is:       3.14\n"
     ]
    }
   ],
   "source": [
    "print(f\"Pi to two decimal places is {3.1415926:1.3}\")\n",
    "\n",
    "\n",
    "value = 3.1415926\n",
    "width = 1\n",
    "precision = 3\n",
    "print(f\"Pi to two decimal places is: {value:{width}.{precision}}\")\n",
    "\n",
    "\n",
    "value = 3.1415926\n",
    "width = 10\n",
    "precision = 3\n",
    "print(f\"Pi to two decimal places is: {value:{width}.{precision}}\")"
   ]
  },
  {
   "cell_type": "markdown",
   "metadata": {},
   "source": [
    "### Backslash's cannot be used inside f-strings\n",
    "\n",
    "1. Use {' '} to contain empty string and then use format method"
   ]
  },
  {
   "cell_type": "code",
   "execution_count": 3,
   "metadata": {},
   "outputs": [
    {
     "name": "stdout",
     "output_type": "stream",
     "text": [
      "How are You'l doing\n"
     ]
    }
   ],
   "source": [
    "# f strings cannot have empty expression\n",
    "# # print(f\"How are {} doing\". format('You\\'l')) #ERROR : f-string: empty expression not allowed\n",
    "\n",
    "print(f\"{'How are {} doing'}\". format('You\\'l')) #Works but I am not sure how"
   ]
  },
  {
   "cell_type": "markdown",
   "metadata": {},
   "source": [
    "2. Use a variable to contain the string with backslash and use f string"
   ]
  },
  {
   "cell_type": "code",
   "execution_count": 4,
   "metadata": {},
   "outputs": [
    {
     "name": "stdout",
     "output_type": "stream",
     "text": [
      " How are You'll doing?\n"
     ]
    }
   ],
   "source": [
    "wordWithBackslash = 'You\\'ll'\n",
    "\n",
    "print(f' How are {wordWithBackslash} doing?')"
   ]
  },
  {
   "cell_type": "code",
   "execution_count": 5,
   "metadata": {},
   "outputs": [
    {
     "name": "stdout",
     "output_type": "stream",
     "text": [
      "Maddy Ain't no chill about him\n"
     ]
    }
   ],
   "source": [
    "# Inplace Boolean logic inisde f strings\n",
    "\n",
    "isCool = False\n",
    "user = 'Maddy'\n",
    "\n",
    "print(f\"{user} {'is a chill dude' if isCool else '{} no chill about him'}\". format('Ain\\'t'))"
   ]
  },
  {
   "cell_type": "markdown",
   "metadata": {},
   "source": [
    "## Useful Methods\n",
    "----\n",
    "\n",
    "#### 1. title() or capitalize() converts the first character of the string to upper case.\n",
    "\n"
   ]
  },
  {
   "cell_type": "code",
   "execution_count": 6,
   "metadata": {},
   "outputs": [
    {
     "name": "stdout",
     "output_type": "stream",
     "text": [
      "Ehlllafda\n"
     ]
    }
   ],
   "source": [
    "word = 'ehlllafda'\n",
    "print(word.capitalize())"
   ]
  },
  {
   "cell_type": "markdown",
   "metadata": {},
   "source": [
    "#### 2.lower() / upper()  converts the string to lower case or upper case respectively."
   ]
  },
  {
   "cell_type": "code",
   "execution_count": 7,
   "metadata": {},
   "outputs": [
    {
     "data": {
      "text/plain": [
       "'eljlaf'"
      ]
     },
     "execution_count": 7,
     "metadata": {},
     "output_type": "execute_result"
    }
   ],
   "source": [
    "word = 'ELJLAF'\n",
    "lowerCaseWord = word.lower()\n",
    "lowerCaseWord"
   ]
  },
  {
   "cell_type": "markdown",
   "metadata": {},
   "source": [
    "#### 3. islower() / isupper() returns true if the string characters are in lower case or uppercase respectively."
   ]
  },
  {
   "cell_type": "code",
   "execution_count": 8,
   "metadata": {},
   "outputs": [
    {
     "name": "stdout",
     "output_type": "stream",
     "text": [
      "False\n"
     ]
    }
   ],
   "source": [
    "word = 'JAFAFSj'\n",
    "print(word.isupper())"
   ]
  },
  {
   "cell_type": "markdown",
   "metadata": {},
   "source": [
    "#### 4. isalpha() Returns True if all characters in the string are in the alphabet"
   ]
  },
  {
   "cell_type": "code",
   "execution_count": 9,
   "metadata": {},
   "outputs": [
    {
     "data": {
      "text/plain": [
       "False"
      ]
     },
     "execution_count": 9,
     "metadata": {},
     "output_type": "execute_result"
    }
   ],
   "source": [
    "word = 'afdial&alf(()'\n",
    "word.isalpha()\n"
   ]
  },
  {
   "cell_type": "markdown",
   "metadata": {},
   "source": [
    "#### 5. isdigit() Returns True if all characters in the string are digits\n",
    "\n",
    "- isnumeric() is similar to isdigit()\n",
    "- The main difference between both the functions is: The isdigit() method accepts only decimals, subscripts, and superscripts. The isnumeric() function supports Digits, Vulgar Fractions, Subscripts, Superscripts, Roman Numerals, and Currency Numerators"
   ]
  },
  {
   "cell_type": "code",
   "execution_count": 10,
   "metadata": {},
   "outputs": [
    {
     "data": {
      "text/plain": [
       "True"
      ]
     },
     "execution_count": 10,
     "metadata": {},
     "output_type": "execute_result"
    }
   ],
   "source": [
    "word = '3242434'\n",
    "word.isdigit()"
   ]
  },
  {
   "cell_type": "markdown",
   "metadata": {},
   "source": [
    "#### 6. lstrip() removes any leading characters\n",
    "\n",
    "syntax : \n",
    "\n",
    "- string.lstrip(characters)\n",
    "\n",
    "- characters : Optional. A set of characters to remove as leading characters\n",
    "\n",
    "rstrip() is also similar"
   ]
  },
  {
   "cell_type": "code",
   "execution_count": 11,
   "metadata": {},
   "outputs": [
    {
     "data": {
      "text/plain": [
       "'yoho    s'"
      ]
     },
     "execution_count": 11,
     "metadata": {},
     "output_type": "execute_result"
    }
   ],
   "source": [
    "txt0 = '    yoho    s'\n",
    "x0 = txt0.lstrip()\n",
    "x0"
   ]
  },
  {
   "cell_type": "code",
   "execution_count": 12,
   "metadata": {},
   "outputs": [
    {
     "data": {
      "text/plain": [
       "'banana'"
      ]
     },
     "execution_count": 12,
     "metadata": {},
     "output_type": "execute_result"
    }
   ],
   "source": [
    "txt1 = \",,,,,ssaaww.....banana\"\n",
    "x1 = txt1.lstrip(\",.asw\")\n",
    "x1"
   ]
  },
  {
   "cell_type": "code",
   "execution_count": 13,
   "metadata": {},
   "outputs": [
    {
     "data": {
      "text/plain": [
       "'joking'"
      ]
     },
     "execution_count": 13,
     "metadata": {},
     "output_type": "execute_result"
    }
   ],
   "source": [
    "txt2 = 'blablajoking'\n",
    "x2 = txt2.lstrip('bla')\n",
    "x2"
   ]
  },
  {
   "cell_type": "markdown",
   "metadata": {},
   "source": [
    "### 7. The count() method returns the number of times a specified value appears in the string.\n",
    "\n",
    "syntax:\n",
    "\n",
    "- string.count(value, start, end)\n",
    "\n",
    "- value: Required. A String. The string to value to search for.\n",
    "- start:\tOptional. An Integer. The position to start the search. Default is 0\n",
    "- end : Optional. An Integer. The position to end the search. Default is the end of the string. (seems to be exclusive)"
   ]
  },
  {
   "cell_type": "code",
   "execution_count": 14,
   "metadata": {},
   "outputs": [
    {
     "data": {
      "text/plain": [
       "2"
      ]
     },
     "execution_count": 14,
     "metadata": {},
     "output_type": "execute_result"
    }
   ],
   "source": [
    "word = 'Baad'\n",
    "word.count('a')"
   ]
  },
  {
   "cell_type": "code",
   "execution_count": 15,
   "metadata": {},
   "outputs": [
    {
     "data": {
      "text/plain": [
       "2"
      ]
     },
     "execution_count": 15,
     "metadata": {},
     "output_type": "execute_result"
    }
   ],
   "source": [
    "word = '12341'\n",
    "word.count('1',0,5 )"
   ]
  },
  {
   "cell_type": "markdown",
   "metadata": {},
   "source": [
    "#### 8. The endswith() method returns True if the string ends with the specified value, otherwise False.\n",
    "\n",
    "syntax: \n",
    "- string.endswith(value, start, end)"
   ]
  },
  {
   "cell_type": "code",
   "execution_count": 16,
   "metadata": {},
   "outputs": [
    {
     "data": {
      "text/plain": [
       "True"
      ]
     },
     "execution_count": 16,
     "metadata": {},
     "output_type": "execute_result"
    }
   ],
   "source": [
    "txt = 'hey there how are you doing'\n",
    "txt.endswith('how are you doing')"
   ]
  },
  {
   "cell_type": "code",
   "execution_count": 17,
   "metadata": {},
   "outputs": [
    {
     "data": {
      "text/plain": [
       "True"
      ]
     },
     "execution_count": 17,
     "metadata": {},
     "output_type": "execute_result"
    }
   ],
   "source": [
    "txt = 'Date : 24/12/2022'\n",
    "txt.endswith('24',0,9)"
   ]
  },
  {
   "cell_type": "markdown",
   "metadata": {},
   "source": [
    "#### 9. The find() method finds the first occurrence of the specified value.\n",
    "\n",
    "syntax : string.find(value, start, end)\n",
    "\n",
    "- The find() method returns -1 if the value is not found.\n",
    "- The find() method is almost the same as the index() method, the only difference is that the index() method raises an exception if the value is not found."
   ]
  },
  {
   "cell_type": "code",
   "execution_count": 18,
   "metadata": {},
   "outputs": [
    {
     "name": "stdout",
     "output_type": "stream",
     "text": [
      "1\n"
     ]
    }
   ],
   "source": [
    "txt = \"Hello, welcome to my world.\"\n",
    "x = txt.find(\"e\")\n",
    "print(x)"
   ]
  }
 ],
 "metadata": {
  "kernelspec": {
   "display_name": "Python 3.9.12 ('base')",
   "language": "python",
   "name": "python3"
  },
  "language_info": {
   "codemirror_mode": {
    "name": "ipython",
    "version": 3
   },
   "file_extension": ".py",
   "mimetype": "text/x-python",
   "name": "python",
   "nbconvert_exporter": "python",
   "pygments_lexer": "ipython3",
   "version": "3.9.12 (main, Apr  4 2022, 05:22:27) [MSC v.1916 64 bit (AMD64)]"
  },
  "orig_nbformat": 4,
  "vscode": {
   "interpreter": {
    "hash": "db0d478f9cd0fc1a5e1c0e536b8e5208ff30d2621524e0f9b7171d8f62182cd6"
   }
  }
 },
 "nbformat": 4,
 "nbformat_minor": 2
}
