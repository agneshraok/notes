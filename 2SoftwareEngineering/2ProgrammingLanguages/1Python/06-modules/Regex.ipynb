{
 "cells": [
  {
   "cell_type": "markdown",
   "metadata": {},
   "source": [
    "## Python Regex\n",
    "---\n",
    "\n",
    "Regular expressions searching a pattern in a text.\n",
    "\n",
    "\n",
    "## Creating Regex Objects\n",
    "---\n",
    "- All the regex functions in Python are in the re module\n",
    "- Passing a string value representing your regular expression to re.compile() returns a Regex pattern object (or simply, a Regex object)"
   ]
  },
  {
   "cell_type": "code",
   "execution_count": 12,
   "metadata": {},
   "outputs": [],
   "source": [
    "import re\n",
    "\n",
    "phoneNumberRegexObject = re.compile(r'\\+91-\\d\\d\\d\\d\\d\\d\\d\\d\\d\\d')\n"
   ]
  },
  {
   "cell_type": "markdown",
   "metadata": {},
   "source": [
    "### The Basic Process\n",
    "---\n",
    "\n",
    "1. Create a regex object using re module and compile() method.\n",
    "2. Pass the string which has a pattern of text to be searched into the search() method.\n",
    "3. Use groups() method to get the mathces"
   ]
  },
  {
   "cell_type": "code",
   "execution_count": 13,
   "metadata": {},
   "outputs": [
    {
     "name": "stdout",
     "output_type": "stream",
     "text": [
      "Aggie\n"
     ]
    }
   ],
   "source": [
    "import re\n",
    "\n",
    "myNameRegex = re.compile('Aggie')\n",
    "matches = myNameRegex.search('Hefahfdkh hA sa da Aggie dahfkdhga dsag')\n",
    "print(matches.group())"
   ]
  },
  {
   "cell_type": "code",
   "execution_count": null,
   "metadata": {},
   "outputs": [],
   "source": []
  }
 ],
 "metadata": {
  "kernelspec": {
   "display_name": "Python 3.9.12 ('base')",
   "language": "python",
   "name": "python3"
  },
  "language_info": {
   "codemirror_mode": {
    "name": "ipython",
    "version": 3
   },
   "file_extension": ".py",
   "mimetype": "text/x-python",
   "name": "python",
   "nbconvert_exporter": "python",
   "pygments_lexer": "ipython3",
   "version": "3.9.12"
  },
  "orig_nbformat": 4,
  "vscode": {
   "interpreter": {
    "hash": "db0d478f9cd0fc1a5e1c0e536b8e5208ff30d2621524e0f9b7171d8f62182cd6"
   }
  }
 },
 "nbformat": 4,
 "nbformat_minor": 2
}
