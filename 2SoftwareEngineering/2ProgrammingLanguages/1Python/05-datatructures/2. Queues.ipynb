{
 "cells": [
  {
   "cell_type": "markdown",
   "metadata": {},
   "source": [
    "# Queues\n",
    "---\n",
    "Queue follows the First In First Out (FIFO) rule - the item that goes in first is the item that comes out first.\n",
    "\n",
    "\n",
    "\n",
    "### 1. Queue Implementation using List\n",
    "---\n"
   ]
  },
  {
   "cell_type": "code",
   "execution_count": 7,
   "metadata": {},
   "outputs": [
    {
     "name": "stdout",
     "output_type": "stream",
     "text": [
      "Queue before popping :[1, 2, 3]\n",
      "Queue after popping :[2, 3]\n"
     ]
    }
   ],
   "source": [
    "queue = []\n",
    "\n",
    "queue.append(1)\n",
    "queue.append(2)\n",
    "queue.append(3)\n",
    "print(f'Queue before popping :{queue}')\n",
    "\n",
    "queue.pop(0)  # ONLY pop(0) must be used!\n",
    "\n",
    "print(f'Queue after popping :{queue}')\n"
   ]
  },
  {
   "cell_type": "markdown",
   "metadata": {},
   "source": [
    "### 2. Queue Implementation using Collections.deque\n",
    "---\n",
    "\n",
    "- Use append() and popleft() to append and remove queue elements and abide FIFO.\n",
    "\n",
    "deque is pronounced as 'deck'!"
   ]
  },
  {
   "cell_type": "code",
   "execution_count": 8,
   "metadata": {},
   "outputs": [
    {
     "name": "stdout",
     "output_type": "stream",
     "text": [
      "Queue before popping :deque([100, 200, 300])\n",
      "Queue after popping :deque([200, 300])\n"
     ]
    }
   ],
   "source": [
    "from collections import deque\n",
    "\n",
    "queue = deque()\n",
    "queue.append(100)\n",
    "queue.append(200)\n",
    "queue.append(300)\n",
    "\n",
    "print(f'Queue before popping :{queue}')\n",
    "\n",
    "queue.popleft()  \n",
    "\n",
    "print(f'Queue after popping :{queue}')\n"
   ]
  },
  {
   "cell_type": "code",
   "execution_count": null,
   "metadata": {},
   "outputs": [],
   "source": []
  }
 ],
 "metadata": {
  "kernelspec": {
   "display_name": "Python 3.9.12 ('base')",
   "language": "python",
   "name": "python3"
  },
  "language_info": {
   "codemirror_mode": {
    "name": "ipython",
    "version": 3
   },
   "file_extension": ".py",
   "mimetype": "text/x-python",
   "name": "python",
   "nbconvert_exporter": "python",
   "pygments_lexer": "ipython3",
   "version": "3.9.12"
  },
  "orig_nbformat": 4,
  "vscode": {
   "interpreter": {
    "hash": "db0d478f9cd0fc1a5e1c0e536b8e5208ff30d2621524e0f9b7171d8f62182cd6"
   }
  }
 },
 "nbformat": 4,
 "nbformat_minor": 2
}
