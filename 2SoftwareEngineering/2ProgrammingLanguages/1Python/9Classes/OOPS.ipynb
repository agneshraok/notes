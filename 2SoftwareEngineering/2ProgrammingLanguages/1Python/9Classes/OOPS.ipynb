{
 "cells": [
  {
   "cell_type": "markdown",
   "metadata": {},
   "source": [
    "# OOPS\n",
    "---\n"
   ]
  },
  {
   "cell_type": "markdown",
   "metadata": {},
   "source": [
    "- A Class is a blueprint to create instances of similar kind.\n",
    "- An Object is an instance of a class.\n",
    "\n",
    "- Objects have unique Attributes and Behaviour.\n",
    "    - Attributes in the form data or state\n",
    "    - Behaviour in the form of methods and other functions."
   ]
  },
  {
   "cell_type": "code",
   "execution_count": 20,
   "metadata": {},
   "outputs": [],
   "source": [
    "class Dog:\n",
    "    def __init__(self, name, breed):  # __init__ is Special Initialization Function (similar to constructors)\n",
    "        self.name = name\n",
    "        self.breed = breed\n",
    "\n",
    "    def get_name(bla):            #Method\n",
    "        return bla.name\n"
   ]
  },
  {
   "cell_type": "markdown",
   "metadata": {},
   "source": [
    "- Methods always take a special parameter as their first argument called \"self\". The self variable is a reference to the object itself.\n",
    "- Although self is not a keyword and hence any valid identifier can be used instead of self. "
   ]
  },
  {
   "cell_type": "code",
   "execution_count": 21,
   "metadata": {},
   "outputs": [
    {
     "name": "stdout",
     "output_type": "stream",
     "text": [
      "Scooby\n"
     ]
    }
   ],
   "source": [
    "myDog = Dog('Scooby', \"Pom\")        #Creating an Object of Dog Class\n",
    "print(myDog.get_name())"
   ]
  },
  {
   "cell_type": "markdown",
   "metadata": {},
   "source": [
    "The __init__ method is not mandatory, If we donot need to initialise the attributes for class instances then we donot need init."
   ]
  },
  {
   "cell_type": "code",
   "execution_count": 22,
   "metadata": {},
   "outputs": [
    {
     "name": "stdout",
     "output_type": "stream",
     "text": [
      "Hell NO, dunder init is not mandatory\n"
     ]
    }
   ],
   "source": [
    "class Demo:\n",
    "    def demoFunc(self):\n",
    "        print ('Hell NO, dunder init is not mandatory')\n",
    "    \n",
    "myDemo = Demo()\n",
    "myDemo.demoFunc()"
   ]
  },
  {
   "cell_type": "markdown",
   "metadata": {},
   "source": [
    "‎"
   ]
  },
  {
   "cell_type": "markdown",
   "metadata": {},
   "source": [
    "# Instance Variables vs Class Variables \n",
    "---\n",
    "\n",
    "### 1. Instance Variables (Instance Attributes)\n",
    "- Instance variables vary from object to object and are declared in the constructor.\n",
    "\n",
    "### 2. Class Variable (Class Attributes)\n",
    "- Class variables remain the same between instances of the same class and are declared at the top-level of a class."
   ]
  },
  {
   "cell_type": "code",
   "execution_count": 23,
   "metadata": {},
   "outputs": [],
   "source": [
    "class Pet:\n",
    "    petCount = 0         #Class Attribute, is accessible to all the class objects and the entire class itself.\n",
    "\n",
    "    def __init__(self, name, age):\n",
    "        self.name = name  #Instance Attribute\n",
    "        self.age = age\n",
    "        "
   ]
  },
  {
   "cell_type": "markdown",
   "metadata": {},
   "source": [
    "‎"
   ]
  },
  {
   "cell_type": "markdown",
   "metadata": {},
   "source": [
    "# Instance, Class and Static Methods \n",
    "---\n",
    "\n",
    "### 1. Instance Methods\n",
    "\n",
    "Instance Method enables to access data and properties unique to each instance.\n",
    "- Instance method are methods which require an object of its class to be created before it can be called.\n",
    "- Instance methods are bound to the Object itself.\n",
    "- They are referenced by Reference to the Object itself (self)\n",
    "\n",
    "### 2. Class Methods\n",
    "\n",
    "A Class Method is used to access or modify the state of the class.\n",
    "- Class methods are the methods that can be called without creating an object of class. \n",
    "- Class method is a method that is bound to a class rather than its object.\n",
    "- They are referenced by the class name itself (cls, as the first parameter)\n",
    "\n"
   ]
  },
  {
   "cell_type": "code",
   "execution_count": 24,
   "metadata": {},
   "outputs": [
    {
     "name": "stdout",
     "output_type": "stream",
     "text": [
      "Count Before Killin :  3\n",
      "Deleted Sucessfully\n",
      "Count After Killin :  2\n"
     ]
    }
   ],
   "source": [
    "# Demo for class method\n",
    "\n",
    "class Pet:\n",
    "    petCount = 0        \n",
    "\n",
    "    def __init__(self, name, age):\n",
    "        self.name = name\n",
    "        self.age = age\n",
    "        Pet.addPet()  #class method is called every time an instance is created.\n",
    "\n",
    "    def killPet(self):\n",
    "        del self                       \n",
    "        print(\"Deleted Sucessfully\")\n",
    "        Pet.petCount -= 1\n",
    "\n",
    "    @classmethod                      \n",
    "    def addPet(cls):\n",
    "        cls.petCount += 1\n",
    "    \n",
    "# Class method is defined in this way. class method is accessible for the entire class.\n",
    "# Note that we are using \"cls\" instead of \"self\" only to remind that we use this method on the class and not the object.\n",
    "# However, we can write \"self\" instead of \"cls\". It's just notation.\n",
    "        \n",
    "\n",
    "class Dog(Pet):\n",
    "    def __init__(self, name, age, breed):\n",
    "        super().__init__(name, age)          \n",
    "        self.breed = breed\n",
    "\n",
    "class Cat(Pet):\n",
    "    def speak(self):\n",
    "        print(\"Meow\")\n",
    "\n",
    "pet1 = Pet(\"Rio\", 1)\n",
    "my_Dog = Dog(\"Scoob\", 4, \"Pom\")\n",
    "my_Cat = Pet(\"Tom\", 2)\n",
    "\n",
    "print('Count Before Killin : ', Pet.petCount)\n",
    "my_Cat.killPet()\n",
    "print('Count After Killin : ', Pet.petCount)"
   ]
  },
  {
   "cell_type": "markdown",
   "metadata": {},
   "source": [
    "### 3. Static Methods\n",
    "---\n",
    "A static method is a general utility method that performs a task in isolation.\n",
    "- Static methods are the methods that can be called without creating an object of class (much like class methods). \n",
    "- Static methods (much like class methods) are methods that are bound to a class rather than its object.\n",
    "- They are referenced by the class name itself or reference to the Object of that class."
   ]
  },
  {
   "cell_type": "code",
   "execution_count": 25,
   "metadata": {},
   "outputs": [
    {
     "name": "stdout",
     "output_type": "stream",
     "text": [
      "10\n",
      "Bla Bla Bla\n"
     ]
    }
   ],
   "source": [
    "class Math:\n",
    "\n",
    "    @staticmethod\n",
    "    def doubler(num):      #No need for \"self\" nor \"cls\" parameter.\n",
    "        return num*2\n",
    "    \n",
    "    @staticmethod\n",
    "    def printSomethhing():\n",
    "        print(\"Bla Bla Bla\")\n",
    "\n",
    "\n",
    "print(Math.doubler(5))  #No need to create an object to access static methods.\n",
    "Math.printSomethhing()\n"
   ]
  },
  {
   "cell_type": "markdown",
   "metadata": {},
   "source": [
    "### Difference between Static Method and Class Method\n",
    "\n",
    "The difference between a static method and a class method is:\n",
    "\n",
    "- Static method knows nothing about the class and just deals with the parameters that are passed to it.\n",
    "- Class method works with the class since its parameter is always the class itself."
   ]
  },
  {
   "cell_type": "markdown",
   "metadata": {},
   "source": [
    "‎\n"
   ]
  },
  {
   "cell_type": "markdown",
   "metadata": {},
   "source": [
    "# Four Pillars of OOPS\n",
    "---"
   ]
  },
  {
   "cell_type": "markdown",
   "metadata": {},
   "source": [
    "## 1. Inheritance\n",
    "\n",
    "- Inheritance allows one class (aka \"the child class\" or \"sub class\") to inherit the attributes and behaviour of another class (aka \"the parent class\" or \"base class\" or \"super class\").\n",
    "\n",
    "- This powerful language feature helps us avoid writing a lot of the same code twice. It allows us to DRY (don't repeat yourself) up our code."
   ]
  },
  {
   "cell_type": "code",
   "execution_count": 26,
   "metadata": {},
   "outputs": [
    {
     "name": "stdout",
     "output_type": "stream",
     "text": [
      "myDog says I am a Land type animal.\n",
      "myBird says I am a Air type animal.\n"
     ]
    }
   ],
   "source": [
    "class Animal:\n",
    "    def __init__(self, type):\n",
    "        self.type = type\n",
    "    \n",
    "    def getType(self):\n",
    "        return \"I am a \" + self.type + \" type animal.\"\n",
    "\n",
    "class Dog(Animal):\n",
    "    def __init__(self, type, breed):\n",
    "        super().__init__(type)      #Initialising type attribute from super class, No need for \"self\" and \":\"\n",
    "        self.breed = breed\n",
    "\n",
    "class Bird(Animal):\n",
    "    def __init__(self, breed):\n",
    "        super().__init__('Air')   #'Air' is passed into type parameter in init of super class!\n",
    "        self.breed = breed\n",
    "\n",
    "\n",
    "myDog = Dog('Land', \"Pom\")\n",
    "print('myDog says', myDog.getType())\n",
    "\n",
    "myBird = Bird('Persian')\n",
    "print('myBird says', myBird.getType())"
   ]
  },
  {
   "cell_type": "markdown",
   "metadata": {},
   "source": [
    "### Understanding super() \n",
    "\n",
    "The super() builtin returns a proxy object (temporary object of the superclass) that allows us to access methods of the base class.\n",
    "\n"
   ]
  },
  {
   "cell_type": "code",
   "execution_count": 27,
   "metadata": {},
   "outputs": [
    {
     "name": "stdout",
     "output_type": "stream",
     "text": [
      "Tis a parent func\n"
     ]
    }
   ],
   "source": [
    "class Parent:\n",
    "    def __init__(self):\n",
    "        pass\n",
    "\n",
    "    def parentFunc(self):\n",
    "        print ('Tis a parent func')\n",
    "\n",
    "class Child(Parent):\n",
    "    def trynaAccessParent(self):\n",
    "        super().parentFunc()    #Here super() returns a temporary Parent object which then is used to access parentFunc.\n",
    "    \n",
    "me = Child()\n",
    "me.trynaAccessParent()\n",
    "\n",
    "#same kind be obtained by simply using me.parentFunc() but the above is done to demo super()"
   ]
  },
  {
   "cell_type": "markdown",
   "metadata": {},
   "source": [
    "### Multiple Inheritence\n",
    "\n"
   ]
  },
  {
   "cell_type": "code",
   "execution_count": 28,
   "metadata": {},
   "outputs": [
    {
     "name": "stdout",
     "output_type": "stream",
     "text": [
      "Dog has 4 legs.\n",
      "Dog can't swim.\n",
      "Dog can't fly.\n",
      "Dog is a warm-blooded animal.\n",
      "Dog is an animal.\n",
      "\n",
      "Bat can't swim.\n",
      "Bat is a warm-blooded animal.\n",
      "Bat is an animal.\n"
     ]
    }
   ],
   "source": [
    "class Animal:\n",
    "  def __init__(self, Animal):\n",
    "    print(Animal, 'is an animal.');\n",
    "\n",
    "class Mammal(Animal):\n",
    "  def __init__(self, mammalName):\n",
    "    print(mammalName, 'is a warm-blooded animal.')\n",
    "    super().__init__(mammalName)\n",
    "    \n",
    "class NonWingedMammal(Mammal):\n",
    "  def __init__(self, NonWingedMammal):\n",
    "    print(NonWingedMammal, \"can't fly.\")\n",
    "    super().__init__(NonWingedMammal)\n",
    "\n",
    "class NonMarineMammal(Mammal):\n",
    "  def __init__(self, NonMarineMammal):\n",
    "    print(NonMarineMammal, \"can't swim.\")\n",
    "    super().__init__(NonMarineMammal)\n",
    "\n",
    "class Dog(NonMarineMammal, NonWingedMammal):\n",
    "  def __init__(self):\n",
    "    print('Dog has 4 legs.');\n",
    "    super().__init__('Dog')\n",
    "    \n",
    "d = Dog()\n",
    "print('')\n",
    "bat = NonMarineMammal('Bat')\n",
    "\n",
    "#Explanation can be found on https://www.programiz.com/python-programming/methods/built-in/super"
   ]
  },
  {
   "cell_type": "markdown",
   "metadata": {},
   "source": [
    "### Method Resolution Order (MRO)\n",
    "\n",
    "\n",
    "Method Resolution Order (MRO) is the order in which methods should be inherited in the presence of multiple inheritance. You can view the MRO by using the __mro__ attribute.\n",
    "\n",
    "- A method in the derived calls is always called before the method of the base class. In our example, Dog class is called before NonMarineMammal or NoneWingedMammal. These two classes are called before Mammal, which is called before Animal, and Animal class is called before the object.\n",
    "- If there are multiple parents like Dog(NonMarineMammal, NonWingedMammal), methods of NonMarineMammal is invoked first because it appears first."
   ]
  },
  {
   "cell_type": "code",
   "execution_count": 29,
   "metadata": {},
   "outputs": [
    {
     "data": {
      "text/plain": [
       "(__main__.Dog,\n",
       " __main__.NonMarineMammal,\n",
       " __main__.NonWingedMammal,\n",
       " __main__.Mammal,\n",
       " __main__.Animal,\n",
       " object)"
      ]
     },
     "execution_count": 29,
     "metadata": {},
     "output_type": "execute_result"
    }
   ],
   "source": [
    "class Animal:\n",
    "  def __init__(self, Animal):\n",
    "    print(Animal, 'is an animal.');\n",
    "\n",
    "class Mammal(Animal):\n",
    "  def __init__(self, mammalName):\n",
    "    print(mammalName, 'is a warm-blooded animal.')\n",
    "    super().__init__(mammalName)\n",
    "    \n",
    "class NonWingedMammal(Mammal):\n",
    "  def __init__(self, NonWingedMammal):\n",
    "    print(NonWingedMammal, \"can't fly.\")\n",
    "    super().__init__(NonWingedMammal)\n",
    "\n",
    "class NonMarineMammal(Mammal):\n",
    "  def __init__(self, NonMarineMammal):\n",
    "    print(NonMarineMammal, \"can't swim.\")\n",
    "    super().__init__(NonMarineMammal)\n",
    "\n",
    "class Dog(NonMarineMammal, NonWingedMammal):\n",
    "  def __init__(self):\n",
    "    print('Dog has 4 legs.');\n",
    "    super().__init__('Dog')\n",
    "\n",
    "Dog.__mro__"
   ]
  },
  {
   "cell_type": "markdown",
   "metadata": {},
   "source": [
    "‎\n"
   ]
  },
  {
   "cell_type": "markdown",
   "metadata": {},
   "source": [
    "## 2. Polymorphism\n",
    "---\n",
    "\n",
    "- Polymorphism is the ability of a variable, function, or object to take on multiple forms. \n",
    "- It refers to the use of a single type entity (method, operator or object) to represent different types in different scenarios.\n",
    "\n",
    "\n",
    "### 2.a Polymorphisim of Operators \n",
    "\n",
    "Another kind of built-in polymorphism in Python is the ability to override an operator in Python depending upon the operands used.\n",
    "\n",
    "- '+' is used for arithmetic addition when used with numbers and as concatination when used with strings.\n",
    "\n",
    "### 2.b Polymorphism of Functions (Overloading Functions)\n",
    "\n",
    "Overloading Built in functions :\n",
    "- len() can be used with different data types like list, tuple, string\n",
    "\n",
    "Overloading User Defined Functions :\n",
    "- Python doesn't support conventional C++ function overloading, it considers the latest function signatures.\n",
    "1. the workaround for that is to use default arguments with \"None\" (Illustraion 1) \n",
    "2. function overloading using different classes (Illusration 2)\n",
    "3. method overloading using inheritence (Illustration 3)\n"
   ]
  },
  {
   "cell_type": "code",
   "execution_count": 30,
   "metadata": {},
   "outputs": [
    {
     "name": "stdout",
     "output_type": "stream",
     "text": [
      "Hey \n",
      "Hey Nicholas\n"
     ]
    }
   ],
   "source": [
    "# The workaround for that is to use default arguments with \"None\" (Illustraion 1) \n",
    "\n",
    "class Student:\n",
    "    def hello(self, name=None):\n",
    "        if name is not None:\n",
    "            print('Hey ' + name)\n",
    "        else:\n",
    "            print('Hey ')\n",
    "\n",
    "\n",
    "std = Student()\n",
    "\n",
    "std.hello()\n",
    "\n",
    "std.hello('Nicholas')  #same function but diff behaviour"
   ]
  },
  {
   "cell_type": "code",
   "execution_count": 31,
   "metadata": {},
   "outputs": [
    {
     "name": "stdout",
     "output_type": "stream",
     "text": [
      "Woof Roof\n",
      "Meow\n"
     ]
    }
   ],
   "source": [
    "# Function overloading using different classes (Illusration 2)\n",
    "\n",
    "class Dog:\n",
    "    def speak(self):\n",
    "        print('Woof Roof')\n",
    "\n",
    "class Cat:\n",
    "    def speak(self):\n",
    "        print('Meow')\n",
    "\n",
    "myDog = Dog()\n",
    "myCat = Cat()\n",
    "\n",
    "for animal in (myDog, myCat):\n",
    "    animal.speak()"
   ]
  },
  {
   "cell_type": "code",
   "execution_count": 32,
   "metadata": {},
   "outputs": [
    {
     "name": "stdout",
     "output_type": "stream",
     "text": [
      "Coming hot from Parent Class\n",
      "coming hot from Child class\n"
     ]
    }
   ],
   "source": [
    "# Method overloading using inheritence (Illustration 3)\n",
    "\n",
    "class Parent:\n",
    "    def foo(self):\n",
    "        print ('Coming hot from Parent Class')\n",
    "\n",
    "class Child(Parent):\n",
    "    def foo(self):\n",
    "        print('coming hot from Child class')\n",
    "\n",
    "parentObj = Parent()\n",
    "parentObj.foo()\n",
    "\n",
    "childObj = Child()\n",
    "childObj.foo()"
   ]
  },
  {
   "cell_type": "markdown",
   "metadata": {},
   "source": [
    "‎"
   ]
  },
  {
   "cell_type": "markdown",
   "metadata": {},
   "source": [
    "## 3. Encapsulation\n",
    "---"
   ]
  },
  {
   "cell_type": "markdown",
   "metadata": {},
   "source": [
    "Using OOP in Python, we can restrict access to methods and variables. This prevents data from direct modification which is called encapsulation.\n",
    "\n",
    "The basic idea of Encapsulation is to wrap up both data and methods into one single unit."
   ]
  },
  {
   "cell_type": "markdown",
   "metadata": {},
   "source": [
    "‎\n"
   ]
  },
  {
   "cell_type": "markdown",
   "metadata": {},
   "source": [
    "### Private, Protected and Public members: \n"
   ]
  },
  {
   "cell_type": "code",
   "execution_count": 33,
   "metadata": {},
   "outputs": [
    {
     "name": "stdout",
     "output_type": "stream",
     "text": [
      "None\n"
     ]
    }
   ],
   "source": [
    "\"\"\"  \n",
    "\n",
    "                    | Access from Class |  Access from Derived Class | Access from Object |\n",
    "\n",
    "Private member      |       Yes        |         No                  |        No          |\n",
    "\n",
    "Protected member    |       Yes        |         Yes                 |        No          |\n",
    "\n",
    "Public member       |       Yes        |         Yes                 |        Yes         |\n",
    "\n",
    "\n",
    "\n",
    "\"\"\"\n",
    "\n",
    "print(None)"
   ]
  },
  {
   "cell_type": "markdown",
   "metadata": {},
   "source": [
    "- To accomplish this in Python, just follow the convention by prefixing the name of the member by a single underscore “_”.\n",
    "\n",
    "- Although the protected variable can be accessed out of the class as well as in the derived class(modified too in derived class), it is customary(convention not a rule) to not access the protected out the class body."
   ]
  },
  {
   "cell_type": "markdown",
   "metadata": {},
   "source": [
    "### Private Members in Python\n",
    "\n",
    "Private members are the same as protected members. The difference is that class members who have been declared private should not be accessed by anyone outside the class or any base classes."
   ]
  },
  {
   "cell_type": "code",
   "execution_count": 34,
   "metadata": {},
   "outputs": [
    {
     "ename": "AttributeError",
     "evalue": "'Product' object has no attribute '__price'",
     "output_type": "error",
     "traceback": [
      "\u001b[1;31m---------------------------------------------------------------------------\u001b[0m",
      "\u001b[1;31mAttributeError\u001b[0m                            Traceback (most recent call last)",
      "\u001b[1;32md:\\PC\\ProgramFiles\\VSCode\\Python\\PyLearning\\3Oops\\OOPS.ipynb Cell 40\u001b[0m in \u001b[0;36m<cell line: 14>\u001b[1;34m()\u001b[0m\n\u001b[0;32m     <a href='vscode-notebook-cell:/d%3A/PC/ProgramFiles/VSCode/Python/PyLearning/3Oops/OOPS.ipynb#X51sZmlsZQ%3D%3D?line=10'>11</a>\u001b[0m         \u001b[39mself\u001b[39m\u001b[39m.\u001b[39m__price \u001b[39m=\u001b[39m newPrice\n\u001b[0;32m     <a href='vscode-notebook-cell:/d%3A/PC/ProgramFiles/VSCode/Python/PyLearning/3Oops/OOPS.ipynb#X51sZmlsZQ%3D%3D?line=12'>13</a>\u001b[0m computer \u001b[39m=\u001b[39m Product(\u001b[39m1000\u001b[39m)\n\u001b[1;32m---> <a href='vscode-notebook-cell:/d%3A/PC/ProgramFiles/VSCode/Python/PyLearning/3Oops/OOPS.ipynb#X51sZmlsZQ%3D%3D?line=13'>14</a>\u001b[0m computer\u001b[39m.\u001b[39;49m__price\n",
      "\u001b[1;31mAttributeError\u001b[0m: 'Product' object has no attribute '__price'"
     ]
    }
   ],
   "source": [
    "#Cannot access Private members\n",
    "\n",
    "class Product:\n",
    "    def __init__(self, price):\n",
    "        self.__price = price   #Private Attribute\n",
    "    \n",
    "    def sell(self):\n",
    "        print(f'Product sold for {self.__price}')\n",
    "    \n",
    "    def setPrice(self, newPrice):\n",
    "        self.__price = newPrice\n",
    "\n",
    "computer = Product(1000)\n",
    "computer.__price   #Here   \n",
    "\n"
   ]
  },
  {
   "cell_type": "code",
   "execution_count": null,
   "metadata": {},
   "outputs": [
    {
     "name": "stdout",
     "output_type": "stream",
     "text": [
      "Product sold for 1000\n",
      "Product sold for 1000\n"
     ]
    }
   ],
   "source": [
    "#Cannot modify private members outside the class\n",
    "\n",
    "class Product:\n",
    "    def __init__(self, price):\n",
    "        self.__price = price   #Private Attribute\n",
    "    \n",
    "    def sell(self):\n",
    "        print(f'Product sold for {self.__price}')\n",
    "    \n",
    "    def setPrice(self, newPrice):\n",
    "        self.__price = newPrice\n",
    "\n",
    "computer = Product(1000)\n",
    "computer.sell()  # Observe that even though we cannot access private attributes directly but we can use instance methods and obtain it\n",
    "\n",
    "computer.__price = 2000  #Here\n",
    "computer.sell() \n",
    "\n"
   ]
  },
  {
   "cell_type": "code",
   "execution_count": null,
   "metadata": {},
   "outputs": [
    {
     "ename": "AttributeError",
     "evalue": "'ElectronicProduct' object has no attribute '_ElectronicProduct__price'",
     "output_type": "error",
     "traceback": [
      "\u001b[1;31m---------------------------------------------------------------------------\u001b[0m",
      "\u001b[1;31mAttributeError\u001b[0m                            Traceback (most recent call last)",
      "\u001b[1;32md:\\PC\\ProgramFiles\\VSCode\\Python\\PyLearning\\3Oops\\OOPS.ipynb Cell 43\u001b[0m in \u001b[0;36m<cell line: 26>\u001b[1;34m()\u001b[0m\n\u001b[0;32m     <a href='vscode-notebook-cell:/d%3A/PC/ProgramFiles/VSCode/Python/PyLearning/3Oops/OOPS.ipynb#X55sZmlsZQ%3D%3D?line=20'>21</a>\u001b[0m         \u001b[39mprint\u001b[39m(\u001b[39mf\u001b[39m\u001b[39m'\u001b[39m\u001b[39mProduct sold for \u001b[39m\u001b[39m{\u001b[39;00m\u001b[39mself\u001b[39m\u001b[39m.\u001b[39m__price\u001b[39m}\u001b[39;00m\u001b[39m'\u001b[39m)\n\u001b[0;32m     <a href='vscode-notebook-cell:/d%3A/PC/ProgramFiles/VSCode/Python/PyLearning/3Oops/OOPS.ipynb#X55sZmlsZQ%3D%3D?line=24'>25</a>\u001b[0m phone \u001b[39m=\u001b[39m ElectronicProduct(\u001b[39m799\u001b[39m, \u001b[39m5000\u001b[39m)\n\u001b[1;32m---> <a href='vscode-notebook-cell:/d%3A/PC/ProgramFiles/VSCode/Python/PyLearning/3Oops/OOPS.ipynb#X55sZmlsZQ%3D%3D?line=25'>26</a>\u001b[0m phone\u001b[39m.\u001b[39;49msellP()\n",
      "\u001b[1;32md:\\PC\\ProgramFiles\\VSCode\\Python\\PyLearning\\3Oops\\OOPS.ipynb Cell 43\u001b[0m in \u001b[0;36mElectronicProduct.sellP\u001b[1;34m(self)\u001b[0m\n\u001b[0;32m     <a href='vscode-notebook-cell:/d%3A/PC/ProgramFiles/VSCode/Python/PyLearning/3Oops/OOPS.ipynb#X55sZmlsZQ%3D%3D?line=19'>20</a>\u001b[0m \u001b[39mdef\u001b[39;00m \u001b[39msellP\u001b[39m(\u001b[39mself\u001b[39m):\n\u001b[1;32m---> <a href='vscode-notebook-cell:/d%3A/PC/ProgramFiles/VSCode/Python/PyLearning/3Oops/OOPS.ipynb#X55sZmlsZQ%3D%3D?line=20'>21</a>\u001b[0m     \u001b[39mprint\u001b[39m(\u001b[39mf\u001b[39m\u001b[39m'\u001b[39m\u001b[39mProduct sold for \u001b[39m\u001b[39m{\u001b[39;00m\u001b[39mself\u001b[39m\u001b[39m.\u001b[39m__price\u001b[39m}\u001b[39;00m\u001b[39m'\u001b[39m)\n",
      "\u001b[1;31mAttributeError\u001b[0m: 'ElectronicProduct' object has no attribute '_ElectronicProduct__price'"
     ]
    }
   ],
   "source": [
    "#Private members cannot be accesed from derived classes too!\n",
    "\n",
    "class Product:\n",
    "    def __init__(self, price):\n",
    "        self.__price = price\n",
    "    \n",
    "    def sell(self):\n",
    "        print(f'Product sold for {self.__price}')\n",
    "    \n",
    "    def setPrice(self, newPrice):\n",
    "        self.__price = newPrice    #Here\n",
    "\n",
    "\n",
    "class ElectronicProduct(Product):\n",
    "    def __init__(self,price, BatteryCapacity):\n",
    "        super().__init__(price)\n",
    "        self.battery = BatteryCapacity\n",
    "    \n",
    "    def sellP(self):\n",
    "        print(f'Product sold for {self.__price}')  #Here\n",
    "\n",
    "phone = ElectronicProduct(799, 5000)\n",
    "phone.sellP()"
   ]
  },
  {
   "cell_type": "code",
   "execution_count": null,
   "metadata": {},
   "outputs": [
    {
     "name": "stdout",
     "output_type": "stream",
     "text": [
      "Product sold for 799\n"
     ]
    }
   ],
   "source": [
    "# Kinda sorta workaround\n",
    "\n",
    "class Product:\n",
    "    def __init__(self, price):\n",
    "        self.__price = price\n",
    "    \n",
    "    def sell(self):\n",
    "        print(f'Product sold for {self.__price}')\n",
    "    \n",
    "    def setPrice(self, newPrice):\n",
    "        self.__price = newPrice    #Here\n",
    "\n",
    "\n",
    "class ElectronicProduct(Product):\n",
    "    def __init__(self,price, BatteryCapacity):\n",
    "        super().__init__(price)\n",
    "        self.battery = BatteryCapacity\n",
    "    \n",
    "    def sellP(self):\n",
    "        super().sell()  #But this can be done!\n",
    "\n",
    "phone = ElectronicProduct(799, 5000)\n",
    "phone.sellP()"
   ]
  },
  {
   "cell_type": "code",
   "execution_count": null,
   "metadata": {},
   "outputs": [
    {
     "name": "stdout",
     "output_type": "stream",
     "text": [
      "Product sold for 1000\n",
      "Product sold for 2000\n"
     ]
    }
   ],
   "source": [
    "# Private members are only accesible and modyfiable within the class\n",
    "class Product:\n",
    "    def __init__(self, price):\n",
    "        self.__price = price\n",
    "    \n",
    "    def sell(self):\n",
    "        print(f'Product sold for {self.__price}')\n",
    "    \n",
    "    def setPrice(self, newPrice):\n",
    "        self.__price = newPrice    #Here\n",
    "\n",
    "computer = Product(1000)\n",
    "computer.sell()\n",
    "\n",
    "computer.setPrice(2000)\n",
    "computer.sell() "
   ]
  },
  {
   "cell_type": "markdown",
   "metadata": {},
   "source": [
    "### Name Mangling to access private members\n",
    "\n",
    "The name mangling is created on an identifier by _classname__datamember"
   ]
  },
  {
   "cell_type": "code",
   "execution_count": null,
   "metadata": {},
   "outputs": [
    {
     "name": "stdout",
     "output_type": "stream",
     "text": [
      "Name: Jessa\n",
      "Salary: 10000\n"
     ]
    }
   ],
   "source": [
    "class Employee:\n",
    "    def __init__(self, name, salary):\n",
    "        # public data member\n",
    "        self.name = name\n",
    "        # private member\n",
    "        self.__salary = salary\n",
    "\n",
    "\n",
    "emp = Employee('Jessa', 10000)\n",
    "\n",
    "print('Name:', emp.name)\n",
    "# direct access to private member using name mangling\n",
    "print('Salary:', emp._Employee__salary)"
   ]
  },
  {
   "cell_type": "markdown",
   "metadata": {},
   "source": [
    "‎\n"
   ]
  },
  {
   "cell_type": "markdown",
   "metadata": {},
   "source": [
    "### Protected Members in Python\n",
    "\n",
    "- Protected members are accessible within the class and also available to its sub-classes. \n",
    "\n",
    "- To define a protected member, prefix the member name with a single underscore _.\n",
    "\n",
    "- Although, This is just a strong convention and not a rule meaning the protected members can actually be accessed outside classes."
   ]
  },
  {
   "cell_type": "code",
   "execution_count": null,
   "metadata": {},
   "outputs": [
    {
     "data": {
      "text/plain": [
       "1000"
      ]
     },
     "execution_count": 19,
     "metadata": {},
     "output_type": "execute_result"
    }
   ],
   "source": [
    "class Product:\n",
    "    def __init__(self, price):\n",
    "        self._price = price   #Protected Attribute\n",
    "    \n",
    "    def sell(self):\n",
    "        print(f'Product sold for {self._price}')\n",
    "    \n",
    "    def setPrice(self, newPrice):\n",
    "        self._price = newPrice\n",
    "\n",
    "computer = Product(1000)\n",
    "computer._price \n",
    "\n",
    "\n"
   ]
  },
  {
   "cell_type": "markdown",
   "metadata": {},
   "source": [
    "## 4. Abstraction\n",
    "---"
   ]
  },
  {
   "cell_type": "code",
   "execution_count": null,
   "metadata": {},
   "outputs": [],
   "source": []
  },
  {
   "cell_type": "markdown",
   "metadata": {},
   "source": [
    "‎\n"
   ]
  },
  {
   "cell_type": "markdown",
   "metadata": {},
   "source": [
    "## Some Python methods\n",
    "----"
   ]
  },
  {
   "cell_type": "markdown",
   "metadata": {},
   "source": [
    "#### getattr() , setattr() and hasattr()"
   ]
  },
  {
   "cell_type": "code",
   "execution_count": 1,
   "metadata": {},
   "outputs": [],
   "source": [
    "class Parent:\n",
    "    def __init__(self, param1, param2):\n",
    "        self.param1 = param1\n",
    "        self.param2 = param2\n",
    "\n",
    "obj = Parent(1,2)\n"
   ]
  },
  {
   "cell_type": "code",
   "execution_count": 6,
   "metadata": {},
   "outputs": [
    {
     "data": {
      "text/plain": [
       "True"
      ]
     },
     "execution_count": 6,
     "metadata": {},
     "output_type": "execute_result"
    }
   ],
   "source": [
    "hasattr(obj, 'param1')"
   ]
  },
  {
   "cell_type": "code",
   "execution_count": 3,
   "metadata": {},
   "outputs": [
    {
     "data": {
      "text/plain": [
       "2"
      ]
     },
     "execution_count": 3,
     "metadata": {},
     "output_type": "execute_result"
    }
   ],
   "source": [
    "getattr(obj, 'param2')"
   ]
  },
  {
   "cell_type": "code",
   "execution_count": 5,
   "metadata": {},
   "outputs": [
    {
     "name": "stdout",
     "output_type": "stream",
     "text": [
      "100\n"
     ]
    }
   ],
   "source": [
    "setattr(obj, 'param1', 100)\n",
    "print(obj.param1)"
   ]
  },
  {
   "cell_type": "code",
   "execution_count": null,
   "metadata": {},
   "outputs": [],
   "source": []
  }
 ],
 "metadata": {
  "kernelspec": {
   "display_name": "Python 3.9.12 ('base')",
   "language": "python",
   "name": "python3"
  },
  "language_info": {
   "codemirror_mode": {
    "name": "ipython",
    "version": 3
   },
   "file_extension": ".py",
   "mimetype": "text/x-python",
   "name": "python",
   "nbconvert_exporter": "python",
   "pygments_lexer": "ipython3",
   "version": "3.9.12"
  },
  "orig_nbformat": 4,
  "vscode": {
   "interpreter": {
    "hash": "db0d478f9cd0fc1a5e1c0e536b8e5208ff30d2621524e0f9b7171d8f62182cd6"
   }
  }
 },
 "nbformat": 4,
 "nbformat_minor": 2
}
