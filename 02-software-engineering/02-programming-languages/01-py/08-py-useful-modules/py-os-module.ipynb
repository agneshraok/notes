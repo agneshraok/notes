{
 "cells": [
  {
   "attachments": {},
   "cell_type": "markdown",
   "metadata": {},
   "source": [
    "# Os Module\n",
    "\n",
    "\n"
   ]
  },
  {
   "cell_type": "code",
   "execution_count": 1,
   "metadata": {},
   "outputs": [],
   "source": [
    "import os"
   ]
  },
  {
   "attachments": {},
   "cell_type": "markdown",
   "metadata": {},
   "source": [
    "## walk()\n",
    "---\n",
    "`os.walk` returns a generator, that creates a tuple of values (current_path, directories in current_path, files in current_path).\n",
    "\n",
    "Every time the generator is called it will follow each directory recursively until no further sub-directories are available from the initial directory that walk was called upon."
   ]
  },
  {
   "cell_type": "code",
   "execution_count": 5,
   "metadata": {},
   "outputs": [
    {
     "data": {
      "text/plain": [
       "generator"
      ]
     },
     "execution_count": 5,
     "metadata": {},
     "output_type": "execute_result"
    }
   ],
   "source": [
    "obj = os.walk('D:\\PC\\ProgramFiles\\VSCode\\Python\\PyLearning\\Modules\\os Module')\n",
    "type(obj)"
   ]
  },
  {
   "attachments": {},
   "cell_type": "markdown",
   "metadata": {},
   "source": [
    "Given the folder structure\n",
    "\n",
    "```\n",
    "-> os Module\n",
    "        -> Folder1\n",
    "            -> Folder 1.1 (empty)\n",
    "            - file.txt\n",
    "            - image.png\n",
    "        -> Folder2\n",
    "            - code.py\n",
    "        - osModule.ipynb\n",
    "\n",
    "```"
   ]
  },
  {
   "cell_type": "code",
   "execution_count": 3,
   "metadata": {},
   "outputs": [
    {
     "name": "stdout",
     "output_type": "stream",
     "text": [
      "('D:\\\\PC\\\\ProgramFiles\\\\VSCode\\\\Python\\\\PyLearning\\\\Modules\\\\os Module', ['Folder1', 'Folder2'], ['osModule.ipynb'])\n",
      "\n",
      "\n",
      "('D:\\\\PC\\\\ProgramFiles\\\\VSCode\\\\Python\\\\PyLearning\\\\Modules\\\\os Module\\\\Folder1', ['Folder1.1'], ['file1.txt', 'image.png'])\n",
      "\n",
      "\n",
      "('D:\\\\PC\\\\ProgramFiles\\\\VSCode\\\\Python\\\\PyLearning\\\\Modules\\\\os Module\\\\Folder1\\\\Folder1.1', [], [])\n",
      "\n",
      "\n",
      "('D:\\\\PC\\\\ProgramFiles\\\\VSCode\\\\Python\\\\PyLearning\\\\Modules\\\\os Module\\\\Folder2', [], ['code.py'])\n",
      "\n",
      "\n"
     ]
    }
   ],
   "source": [
    "for obj in os.walk('D:\\PC\\ProgramFiles\\VSCode\\Python\\PyLearning\\Modules\\os Module'):\n",
    "    print(obj)\n",
    "    print('\\n')"
   ]
  },
  {
   "cell_type": "code",
   "execution_count": 14,
   "metadata": {},
   "outputs": [
    {
     "name": "stdout",
     "output_type": "stream",
     "text": [
      "<class 'tuple'> \n",
      "\n",
      "The type of first item in the tuple is <class 'str'> \n",
      "\n",
      "The type of second item in the tuple is <class 'list'> \n",
      "\n",
      "The type of third item in the tuple is <class 'list'> \n",
      "\n",
      "    \n"
     ]
    }
   ],
   "source": [
    "for item in os.walk('D:\\PC\\ProgramFiles\\VSCode\\Python\\PyLearning\\Modules\\os Module'):\n",
    "    print(type(item),'\\n')\n",
    "    print(f\"\"\"The type of first item in the tuple is {type(item[0])} \\n\n",
    "The type of second item in the tuple is {type(item[1])} \\n\n",
    "The type of third item in the tuple is {type(item[2])} \\n\n",
    "    \"\"\")\n",
    "    break\n"
   ]
  },
  {
   "cell_type": "code",
   "execution_count": 16,
   "metadata": {},
   "outputs": [
    {
     "name": "stdout",
     "output_type": "stream",
     "text": [
      "D:\\PC\\ProgramFiles\\VSCode\\Python\\PyLearning\\Modules\\os Module\n",
      "['Folder1', 'Folder2']\n",
      "['osModule.ipynb']\n",
      "\n",
      "\n",
      "D:\\PC\\ProgramFiles\\VSCode\\Python\\PyLearning\\Modules\\os Module\\Folder1\n",
      "['Folder1.1']\n",
      "['file1.txt', 'image.png']\n",
      "\n",
      "\n",
      "D:\\PC\\ProgramFiles\\VSCode\\Python\\PyLearning\\Modules\\os Module\\Folder1\\Folder1.1\n",
      "[]\n",
      "[]\n",
      "\n",
      "\n",
      "D:\\PC\\ProgramFiles\\VSCode\\Python\\PyLearning\\Modules\\os Module\\Folder2\n",
      "[]\n",
      "['code.py']\n",
      "\n",
      "\n"
     ]
    }
   ],
   "source": [
    "for path, subdir, file in os.walk('D:\\PC\\ProgramFiles\\VSCode\\Python\\PyLearning\\Modules\\os Module'):\n",
    "    print(path)\n",
    "    print(subdir)\n",
    "    print(file)\n",
    "    print('\\n')"
   ]
  },
  {
   "cell_type": "code",
   "execution_count": null,
   "metadata": {},
   "outputs": [],
   "source": []
  }
 ],
 "metadata": {
  "kernelspec": {
   "display_name": "base",
   "language": "python",
   "name": "python3"
  },
  "language_info": {
   "codemirror_mode": {
    "name": "ipython",
    "version": 3
   },
   "file_extension": ".py",
   "mimetype": "text/x-python",
   "name": "python",
   "nbconvert_exporter": "python",
   "pygments_lexer": "ipython3",
   "version": "3.9.12 (main, Apr  4 2022, 05:22:27) [MSC v.1916 64 bit (AMD64)]"
  },
  "orig_nbformat": 4,
  "vscode": {
   "interpreter": {
    "hash": "db0d478f9cd0fc1a5e1c0e536b8e5208ff30d2621524e0f9b7171d8f62182cd6"
   }
  }
 },
 "nbformat": 4,
 "nbformat_minor": 2
}
