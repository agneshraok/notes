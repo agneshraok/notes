{
 "cells": [
  {
   "attachments": {},
   "cell_type": "markdown",
   "metadata": {},
   "source": [
    "Check [official anaconda documentation](https://conda.io/projects/conda/en/latest/user-guide/tasks/manage-environments.html) for more information.\n",
    "\n",
    "#### Creating an environment using anaconda prompt\n",
    "---\n",
    "\n",
    "```\n",
    "conda create --name myenv\n",
    "\n",
    "#Replace myenv with the environment name\n",
    "\n",
    "```\n",
    "\n",
    "\n",
    "#### Activating an environment\n",
    "---\n",
    "\n",
    "```\n",
    "conda activate myenv\n",
    "```"
   ]
  },
  {
   "cell_type": "markdown",
   "metadata": {},
   "source": []
  }
 ],
 "metadata": {
  "language_info": {
   "name": "python"
  },
  "orig_nbformat": 4
 },
 "nbformat": 4,
 "nbformat_minor": 2
}
