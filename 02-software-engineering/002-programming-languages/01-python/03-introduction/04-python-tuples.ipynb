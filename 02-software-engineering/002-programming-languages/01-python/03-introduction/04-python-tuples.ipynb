{
 "cells": [
  {
   "cell_type": "markdown",
   "metadata": {},
   "source": [
    "# Python Tuples\n",
    "---\n",
    "\n",
    "1. One among the 4 built in data types to store collection of data. (Other 3 are set, list and dict)\n",
    "2. Tuples are unmutable.\n",
    "3. Items in tuples are ordered (Indexed).\n",
    "4. Tuples can contain duplicate Items.\n",
    "5. Tuple items can of be different datatypes."
   ]
  },
  {
   "cell_type": "markdown",
   "metadata": {},
   "source": [
    "## Creating Tuples\n",
    "---"
   ]
  },
  {
   "cell_type": "code",
   "execution_count": 51,
   "metadata": {},
   "outputs": [],
   "source": [
    "myTup = (1, 'daf', True, 1)"
   ]
  },
  {
   "cell_type": "markdown",
   "metadata": {},
   "source": [
    "## Inserting Items into a Tuple\n",
    "---\n",
    "\n",
    "As tuple is unmutable, we do not have append() or insert() methods.\n"
   ]
  },
  {
   "cell_type": "markdown",
   "metadata": {},
   "source": [
    "#### 1. Tuple concatenation using + operator"
   ]
  },
  {
   "cell_type": "code",
   "execution_count": 52,
   "metadata": {},
   "outputs": [
    {
     "data": {
      "text/plain": [
       "(1, 2, 'z')"
      ]
     },
     "execution_count": 52,
     "metadata": {},
     "output_type": "execute_result"
    }
   ],
   "source": [
    "myTup = (1,2)\n",
    "myTup = myTup + ('z',)  # , is a must in this case else python will consider ('z') as str!\n",
    "myTup"
   ]
  },
  {
   "cell_type": "markdown",
   "metadata": {},
   "source": [
    "#### 2. Unpacking inside a tuple"
   ]
  },
  {
   "cell_type": "code",
   "execution_count": 53,
   "metadata": {},
   "outputs": [
    {
     "data": {
      "text/plain": [
       "(1, 2, 'z')"
      ]
     },
     "execution_count": 53,
     "metadata": {},
     "output_type": "execute_result"
    }
   ],
   "source": [
    "a = (1,2)\n",
    "b = 'z'\n",
    "new = (*a, b)   #THIS IS INTERSTING\n",
    "new "
   ]
  },
  {
   "cell_type": "markdown",
   "metadata": {},
   "source": [
    "#### 4. By Type Casting "
   ]
  },
  {
   "cell_type": "code",
   "execution_count": 54,
   "metadata": {},
   "outputs": [
    {
     "data": {
      "text/plain": [
       "(1, 2, 'z')"
      ]
     },
     "execution_count": 54,
     "metadata": {},
     "output_type": "execute_result"
    }
   ],
   "source": [
    "a = (1,2)\n",
    "\n",
    "a = list(a)   #type casting into a list\n",
    "a.append('z')\n",
    "\n",
    "a = tuple(a)  # type casting back to a tuple\n",
    "a\n",
    "\n"
   ]
  },
  {
   "cell_type": "markdown",
   "metadata": {},
   "source": [
    "Essentially by inserting items we are not modifying the tuple but rather a new tuple object is created every time we do some modification, hence we say tuples are immutable."
   ]
  },
  {
   "cell_type": "code",
   "execution_count": 55,
   "metadata": {},
   "outputs": [
    {
     "name": "stdout",
     "output_type": "stream",
     "text": [
      "2146782040960\n",
      "2146803711872\n",
      "We can see that the id's are different\n"
     ]
    }
   ],
   "source": [
    "# id()  is an integer which is guaranteed to be unique and constant for this object during its lifetime. \n",
    "\n",
    "myTup = (1,2)\n",
    "print(id(myTup))\n",
    "\n",
    "myTup = myTup + ('z',)  \n",
    "print(id(myTup))\n",
    "\n",
    "print('We can see that the id\\'s are different')"
   ]
  },
  {
   "cell_type": "markdown",
   "metadata": {},
   "source": [
    "## Accesing Items in Tuple\n",
    "---\n",
    "\n",
    "single / multiple items can be accesed by using indexes."
   ]
  },
  {
   "cell_type": "code",
   "execution_count": 56,
   "metadata": {},
   "outputs": [
    {
     "data": {
      "text/plain": [
       "2"
      ]
     },
     "execution_count": 56,
     "metadata": {},
     "output_type": "execute_result"
    }
   ],
   "source": [
    "# accesing single item\n",
    "\n",
    "myTup = (1,2,3,1,2)\n",
    "myTup[1]"
   ]
  },
  {
   "cell_type": "code",
   "execution_count": 57,
   "metadata": {},
   "outputs": [
    {
     "data": {
      "text/plain": [
       "(1, 2)"
      ]
     },
     "execution_count": 57,
     "metadata": {},
     "output_type": "execute_result"
    }
   ],
   "source": [
    "# accesing multiple items \n",
    "\n",
    "myTup = (1,2,3,4,1,2,3)\n",
    "myTup[0:2]"
   ]
  },
  {
   "cell_type": "code",
   "execution_count": 58,
   "metadata": {},
   "outputs": [
    {
     "name": "stdout",
     "output_type": "stream",
     "text": [
      "('apple', 'banana', 'cherry', 'orange', 'kiwi', 'melon')\n",
      "('orange', 'kiwi', 'melon')\n",
      "('melon', 'mango')\n",
      "('mango', 'melon', 'kiwi', 'orange', 'cherry', 'banana', 'apple')\n"
     ]
    }
   ],
   "source": [
    "# for concept clarity [startIndex(included) : endIndex(exclusive) : step(default = 1)]\n",
    "\n",
    "thistuple = (\"apple\", \"banana\", \"cherry\", \"orange\", \"kiwi\", \"melon\", \"mango\")\n",
    "print(thistuple[:-1])  \n",
    "print(thistuple[-4:-1])\n",
    "print(thistuple[-2:])\n",
    "print(thistuple[::-1]) #Reverses the entire thing\n"
   ]
  },
  {
   "cell_type": "markdown",
   "metadata": {},
   "source": [
    "## Deleting Items from a Tuple\n",
    "---\n",
    "\n",
    "Tuples can only be manipulated (and hence creating new objects)"
   ]
  },
  {
   "cell_type": "code",
   "execution_count": 59,
   "metadata": {},
   "outputs": [
    {
     "data": {
      "text/plain": [
       "(1, 2, 3, 4)"
      ]
     },
     "execution_count": 59,
     "metadata": {},
     "output_type": "execute_result"
    }
   ],
   "source": [
    "# removing last item using manipulation\n",
    "\n",
    "tup = (1,2,3,4,5)\n",
    "tup = tup[:-1]\n",
    "tup"
   ]
  },
  {
   "cell_type": "code",
   "execution_count": 60,
   "metadata": {},
   "outputs": [
    {
     "data": {
      "text/plain": [
       "(1, 3, 4, 5)"
      ]
     },
     "execution_count": 60,
     "metadata": {},
     "output_type": "execute_result"
    }
   ],
   "source": [
    "# type casting\n",
    "\n",
    "tup = (1,2,3,4,5)\n",
    "\n",
    "tup = list(tup)\n",
    "tup.pop(1)\n",
    "\n",
    "tup = tuple(tup)\n",
    "tup\n"
   ]
  },
  {
   "cell_type": "markdown",
   "metadata": {},
   "source": [
    "## Unpacking tuples\n",
    "---"
   ]
  },
  {
   "cell_type": "code",
   "execution_count": 61,
   "metadata": {},
   "outputs": [
    {
     "data": {
      "text/plain": [
       "'apple'"
      ]
     },
     "execution_count": 61,
     "metadata": {},
     "output_type": "execute_result"
    }
   ],
   "source": [
    "fruits = (\"apple\", \"banana\", \"cherry\")\n",
    "\n",
    "red, yellow, purple = fruits\n",
    "red"
   ]
  },
  {
   "cell_type": "markdown",
   "metadata": {},
   "source": [
    "#### * Operator \n",
    "\n",
    "If the number of variables is less than the number of values, you can add an * to the variable name and the values will be assigned to the variable as a list:"
   ]
  },
  {
   "cell_type": "code",
   "execution_count": 62,
   "metadata": {},
   "outputs": [
    {
     "name": "stdout",
     "output_type": "stream",
     "text": [
      "apple\n",
      "banana\n",
      "['cherry', 'strawberry', 'raspberry']\n"
     ]
    }
   ],
   "source": [
    "fruits = (\"apple\", \"banana\", \"cherry\", \"strawberry\", \"raspberry\")\n",
    "\n",
    "green, yellow, *red = fruits\n",
    "\n",
    "print(green)\n",
    "print(yellow)\n",
    "print(red)"
   ]
  },
  {
   "cell_type": "code",
   "execution_count": 63,
   "metadata": {},
   "outputs": [
    {
     "name": "stdout",
     "output_type": "stream",
     "text": [
      "apple\n",
      "['banana', 'cherry', 'strawberry']\n",
      "raspberry\n"
     ]
    }
   ],
   "source": [
    "# if * is used on varible other than the last one, it'll do this\n",
    "(green, *tropic, red) = fruits\n",
    "\n",
    "print(green)\n",
    "print(tropic)\n",
    "print(red)"
   ]
  },
  {
   "cell_type": "code",
   "execution_count": null,
   "metadata": {},
   "outputs": [],
   "source": []
  }
 ],
 "metadata": {
  "kernelspec": {
   "display_name": "Python 3.9.12 ('base')",
   "language": "python",
   "name": "python3"
  },
  "language_info": {
   "codemirror_mode": {
    "name": "ipython",
    "version": 3
   },
   "file_extension": ".py",
   "mimetype": "text/x-python",
   "name": "python",
   "nbconvert_exporter": "python",
   "pygments_lexer": "ipython3",
   "version": "3.9.12"
  },
  "orig_nbformat": 4,
  "vscode": {
   "interpreter": {
    "hash": "db0d478f9cd0fc1a5e1c0e536b8e5208ff30d2621524e0f9b7171d8f62182cd6"
   }
  }
 },
 "nbformat": 4,
 "nbformat_minor": 2
}
