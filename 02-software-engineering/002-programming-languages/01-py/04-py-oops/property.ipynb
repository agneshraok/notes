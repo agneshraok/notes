{
 "cells": [
  {
   "cell_type": "markdown",
   "metadata": {},
   "source": [
    "# property()\n",
    "---\n",
    "\n",
    "- Allows us to turn class aattributes into properties or managed attributes.\n",
    "\n",
    "- Basically, allows us to create methods that behave like attributes!\n",
    "\n",
    "### Signature\n",
    "\n",
    "property(fget = None, fset = None, fdel = None, doc =None)\n",
    "\n",
    "* When we access the managed attribute as in obj.attr, python automatically calls fget()\n",
    "* When we assign a new value, python calls fset()\n",
    "* Similar can be said for fdel."
   ]
  },
  {
   "cell_type": "code",
   "execution_count": 1,
   "metadata": {},
   "outputs": [],
   "source": [
    "class Point:\n",
    "    \"\"\" Describes a Geometric Point \"\"\"\n",
    "    def __init__(self, xValue):\n",
    "        self._xValue = xValue\n",
    "\n",
    "    def _getxValue(self):\n",
    "        \"\"\" Basically a getter \"\"\"\n",
    "        return self._xValue\n",
    "    \n",
    "    def _setxValue(self, newValue):\n",
    "        \"\"\" Basically a setter \"\"\"\n",
    "        self._xValue = newValue\n",
    "    \n",
    "    def _delxValue(self):\n",
    "        \"\"\" Basically a delter \"\"\"\n",
    "        del self._xValue\n",
    "    \n",
    "    xValue = property (fget = _getxValue, fset = _setxValue, fdel = _delxValue, doc = \"Used for getting, setting and deleting xValue of a Point instance\")\n",
    "\n",
    "\n",
    "\n",
    "myPoint = Point(3.0)\n",
    "\n",
    "\n",
    "\n",
    "\n",
    "\n"
   ]
  },
  {
   "cell_type": "code",
   "execution_count": 2,
   "metadata": {},
   "outputs": [
    {
     "data": {
      "text/plain": [
       "3.0"
      ]
     },
     "execution_count": 2,
     "metadata": {},
     "output_type": "execute_result"
    }
   ],
   "source": [
    "myPoint.xValue"
   ]
  },
  {
   "cell_type": "code",
   "execution_count": 3,
   "metadata": {},
   "outputs": [
    {
     "data": {
      "text/plain": [
       "10"
      ]
     },
     "execution_count": 3,
     "metadata": {},
     "output_type": "execute_result"
    }
   ],
   "source": [
    "myPoint.xValue = 10\n",
    "myPoint.xValue"
   ]
  },
  {
   "cell_type": "code",
   "execution_count": 4,
   "metadata": {},
   "outputs": [
    {
     "ename": "AttributeError",
     "evalue": "'Point' object has no attribute '_xValue'",
     "output_type": "error",
     "traceback": [
      "\u001b[1;31m---------------------------------------------------------------------------\u001b[0m",
      "\u001b[1;31mAttributeError\u001b[0m                            Traceback (most recent call last)",
      "\u001b[1;32md:\\PC\\ProgramFiles\\VSCode\\Python\\PyLearning\\Functions\\property.ipynb Cell 4\u001b[0m in \u001b[0;36m<cell line: 3>\u001b[1;34m()\u001b[0m\n\u001b[0;32m      <a href='vscode-notebook-cell:/d%3A/PC/ProgramFiles/VSCode/Python/PyLearning/Functions/property.ipynb#W3sZmlsZQ%3D%3D?line=0'>1</a>\u001b[0m \u001b[39mdel\u001b[39;00m myPoint\u001b[39m.\u001b[39mxValue\n\u001b[1;32m----> <a href='vscode-notebook-cell:/d%3A/PC/ProgramFiles/VSCode/Python/PyLearning/Functions/property.ipynb#W3sZmlsZQ%3D%3D?line=2'>3</a>\u001b[0m myPoint\u001b[39m.\u001b[39;49mxValue\n",
      "\u001b[1;32md:\\PC\\ProgramFiles\\VSCode\\Python\\PyLearning\\Functions\\property.ipynb Cell 4\u001b[0m in \u001b[0;36mPoint._getxValue\u001b[1;34m(self)\u001b[0m\n\u001b[0;32m      <a href='vscode-notebook-cell:/d%3A/PC/ProgramFiles/VSCode/Python/PyLearning/Functions/property.ipynb#W3sZmlsZQ%3D%3D?line=5'>6</a>\u001b[0m \u001b[39mdef\u001b[39;00m \u001b[39m_getxValue\u001b[39m(\u001b[39mself\u001b[39m):\n\u001b[0;32m      <a href='vscode-notebook-cell:/d%3A/PC/ProgramFiles/VSCode/Python/PyLearning/Functions/property.ipynb#W3sZmlsZQ%3D%3D?line=6'>7</a>\u001b[0m     \u001b[39m\"\"\" Basically a getter \"\"\"\u001b[39;00m\n\u001b[1;32m----> <a href='vscode-notebook-cell:/d%3A/PC/ProgramFiles/VSCode/Python/PyLearning/Functions/property.ipynb#W3sZmlsZQ%3D%3D?line=7'>8</a>\u001b[0m     \u001b[39mreturn\u001b[39;00m \u001b[39mself\u001b[39;49m\u001b[39m.\u001b[39;49m_xValue\n",
      "\u001b[1;31mAttributeError\u001b[0m: 'Point' object has no attribute '_xValue'"
     ]
    }
   ],
   "source": [
    "del myPoint.xValue\n",
    "\n",
    "myPoint.xValue"
   ]
  },
  {
   "cell_type": "code",
   "execution_count": 5,
   "metadata": {},
   "outputs": [
    {
     "name": "stdout",
     "output_type": "stream",
     "text": [
      "Help on Point in module __main__ object:\n",
      "\n",
      "class Point(builtins.object)\n",
      " |  Point(xValue)\n",
      " |  \n",
      " |  Describes a Geometric Point\n",
      " |  \n",
      " |  Methods defined here:\n",
      " |  \n",
      " |  __init__(self, xValue)\n",
      " |      Initialize self.  See help(type(self)) for accurate signature.\n",
      " |  \n",
      " |  ----------------------------------------------------------------------\n",
      " |  Data descriptors defined here:\n",
      " |  \n",
      " |  __dict__\n",
      " |      dictionary for instance variables (if defined)\n",
      " |  \n",
      " |  __weakref__\n",
      " |      list of weak references to the object (if defined)\n",
      " |  \n",
      " |  xValue\n",
      " |      Used for getting, setting and deleting xValue of a Point instance\n",
      "\n"
     ]
    }
   ],
   "source": [
    "help(myPoint)"
   ]
  },
  {
   "cell_type": "code",
   "execution_count": null,
   "metadata": {},
   "outputs": [],
   "source": []
  }
 ],
 "metadata": {
  "kernelspec": {
   "display_name": "Python 3.9.12 ('base')",
   "language": "python",
   "name": "python3"
  },
  "language_info": {
   "codemirror_mode": {
    "name": "ipython",
    "version": 3
   },
   "file_extension": ".py",
   "mimetype": "text/x-python",
   "name": "python",
   "nbconvert_exporter": "python",
   "pygments_lexer": "ipython3",
   "version": "3.9.12"
  },
  "orig_nbformat": 4,
  "vscode": {
   "interpreter": {
    "hash": "db0d478f9cd0fc1a5e1c0e536b8e5208ff30d2621524e0f9b7171d8f62182cd6"
   }
  }
 },
 "nbformat": 4,
 "nbformat_minor": 2
}
