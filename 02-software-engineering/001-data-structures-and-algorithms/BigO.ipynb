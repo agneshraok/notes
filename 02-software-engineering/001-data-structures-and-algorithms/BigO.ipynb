{
 "cells": [
  {
   "cell_type": "markdown",
   "metadata": {},
   "source": [
    "Time and space complexity is a measure of how an algorithm's run time/space scales with input size.\n",
    "\n",
    "Note that Time complexity doesnt tell us the time taken for an algorithm to run rather tells us how the time taken will scale with the length of input.\n",
    "\n",
    "- BigO is the measure of worst case.\n",
    "\n",
    "- BigOmega is the measure of best case.\n",
    "\n",
    "- BigTheta is the measure of Averge case (Kinda Sorta).\n",
    "\n",
    "\n",
    "### Meaning log2(X) = Y \n",
    "\n",
    "Y is the number of times you need to multiply 2 to get X. As simple as that.\n",
    "log2(8) is 3 coz 2 must be multiplied 3 times to get 8!"
   ]
  },
  {
   "cell_type": "code",
   "execution_count": null,
   "metadata": {},
   "outputs": [],
   "source": []
  }
 ],
 "metadata": {
  "kernelspec": {
   "display_name": "Python 3.10.6 64-bit",
   "language": "python",
   "name": "python3"
  },
  "language_info": {
   "name": "python",
   "version": "3.10.6"
  },
  "orig_nbformat": 4,
  "vscode": {
   "interpreter": {
    "hash": "295a0e71e4c1ef7572ff36844cd8e89bf61745162f7ee27fc10112e5c1afa7e5"
   }
  }
 },
 "nbformat": 4,
 "nbformat_minor": 2
}
